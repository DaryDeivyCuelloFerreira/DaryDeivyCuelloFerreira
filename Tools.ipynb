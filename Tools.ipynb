{
 "cells": [
  {
   "cell_type": "markdown",
   "metadata": {},
   "source": [
    "<center>\n",
    "    <img src=\"https://cf-courses-data.s3.us.cloud-object-storage.appdomain.cloud/IBMDeveloperSkillsNetwork-DS0105EN-SkillsNetwork/labs/Module2/images/SN_web_lightmode.png\" width=\"300\" alt=\"cognitiveclass.ai logo\">\n",
    "</center>\n"
   ]
  },
  {
   "cell_type": "markdown",
   "metadata": {},
   "source": [
    "#### Add your code below following the instructions given in the course\n"
   ]
  },
  {
   "cell_type": "code",
   "execution_count": null,
   "metadata": {},
   "outputs": [],
   "source": [
    "# Proyecto Final de Ciencia de Datos"
   ]
  },
  {
   "cell_type": "code",
   "execution_count": null,
   "metadata": {},
   "outputs": [],
   "source": [
    "## Introducción\n",
    "\n",
    "# En este cuaderno exploraremos diversos aspectos de la \n",
    "#ciencia de datos, incluyendo lenguajes, bibliotecas, herramientas \n",
    "#yejemplos básicos de operaciones aritméticas.\n"
   ]
  },
  {
   "cell_type": "code",
   "execution_count": null,
   "metadata": {},
   "outputs": [],
   "source": [
    "## Lenguajes de Ciencia de Datos\n",
    "\n",
    "1. Python\n",
    "2. R\n",
    "3. SQL\n",
    "4. Julia\n",
    "5. Scala"
   ]
  },
  {
   "cell_type": "code",
   "execution_count": null,
   "metadata": {},
   "outputs": [],
   "source": [
    "## Bibliotecas de Ciencia de Datos\n",
    "\n",
    "1. NumPy\n",
    "2. pandas\n",
    "3. Matplotlib\n",
    "4. scikit-learn\n",
    "5. TensorFlow\n",
    "6. PyTorch\n"
   ]
  },
  {
   "cell_type": "code",
   "execution_count": null,
   "metadata": {},
   "outputs": [],
   "source": [
    "## Tabla de Herramientas de Ciencia de Datos\n",
    "\n",
    "| Herramienta     | Descripción                           |\n",
    "|-----------------|---------------------------------------|\n",
    "| Jupyter Notebook| Entorno interactivo para código Python|\n",
    "| Anaconda        | Distribución de Python con paquetes   |\n",
    "| GitHub          | Plataforma para control de versiones  |\n",
    "| Docker          | Contenerización de aplicaciones        |\n",
    "| Tableau         | Herramienta de visualización de datos  |\n"
   ]
  },
  {
   "cell_type": "code",
   "execution_count": null,
   "metadata": {},
   "outputs": [],
   "source": [
    "## Ejemplos de Expresiones Aritméticas\n",
    "\n",
    "- Suma: `a + b`\n",
    "- Resta: `a - b`\n",
    "- Multiplicación: `a * b`\n",
    "- División: `a / b`\n"
   ]
  },
  {
   "cell_type": "code",
   "execution_count": null,
   "metadata": {},
   "outputs": [],
   "source": [
    "# Ejemplo de multiplicación y suma de números\n",
    "\n",
    "# Definir los números\n",
    "a = 5\n",
    "b = 10\n",
    "\n",
    "# Multiplicación\n",
    "producto = a * b\n",
    "\n",
    "# Suma\n",
    "suma = a + b\n",
    "\n",
    "producto, suma\n"
   ]
  },
  {
   "cell_type": "code",
   "execution_count": null,
   "metadata": {},
   "outputs": [],
   "source": [
    "# Función para convertir minutos en horas\n",
    "\n",
    "def minutos_a_horas(minutos):\n",
    "    horas = minutos // 60\n",
    "    minutos_restantes = minutos % 60\n",
    "    return horas, minutos_restantes\n",
    "\n",
    "# Ejemplo de uso\n",
    "minutos = 135\n",
    "minutos_a_horas(minutos)\n"
   ]
  },
  {
   "cell_type": "code",
   "execution_count": null,
   "metadata": {},
   "outputs": [],
   "source": [
    "# Listar objetivos del proyecto\n",
    "\n",
    "objetivos = [\n",
    "    \"Introducir conceptos básicos de ciencia de datos.\",\n",
    "    \"Demostrar uso de lenguajes y bibliotecas.\",\n",
    "    \"Mostrar ejemplos básicos de operaciones aritméticas.\",\n",
    "    \"Facilitar la comprensión del proceso de conversión de unidades.\"\n",
    "]\n",
    "\n",
    "objetivos\n"
   ]
  },
  {
   "cell_type": "code",
   "execution_count": null,
   "metadata": {},
   "outputs": [],
   "source": [
    "## Autor\n",
    "\n",
    "[Dary Deivy Cuello Ferreira]\n"
   ]
  }
 ],
 "metadata": {
  "kernelspec": {
   "display_name": "Python",
   "language": "python",
   "name": "conda-env-python-py"
  },
  "language_info": {
   "codemirror_mode": {
    "name": "ipython",
    "version": 3
   },
   "file_extension": ".py",
   "mimetype": "text/x-python",
   "name": "python",
   "nbconvert_exporter": "python",
   "pygments_lexer": "ipython3",
   "version": "3.7.12"
  }
 },
 "nbformat": 4,
 "nbformat_minor": 4
}
